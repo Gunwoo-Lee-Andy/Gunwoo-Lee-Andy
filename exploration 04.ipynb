{
 "cells": [
  {
   "cell_type": "markdown",
   "id": "stretch-player",
   "metadata": {},
   "source": [
    "### 데이터 불러 오기"
   ]
  },
  {
   "cell_type": "code",
   "execution_count": 1,
   "id": "ideal-ranking",
   "metadata": {},
   "outputs": [
    {
     "name": "stdout",
     "output_type": "stream",
     "text": [
      "데이터 크기: 187088\n",
      "Examples:\n",
      " [' There must be some kind of way outta here', 'Said the joker to the thief', \"There's too much confusion\"]\n"
     ]
    }
   ],
   "source": [
    "import glob\n",
    "import os \n",
    "import numpy as np\n",
    "\n",
    "\n",
    "# 파일을 읽기모드로 열고\n",
    "# 라인 단위로 끊어서 list 형태로 읽어옵니다.\n",
    "txt_file_path = os.getenv('HOME')+'/aiffel/lyricist/data/lyrics/*'\n",
    "txt_list = glob.glob(txt_file_path)\n",
    "\n",
    "raw_corpus = []\n",
    "\n",
    "# 여러개의 txt 파일을 모두 읽어서 raw_corpus 에 담습니다.\n",
    "for txt_file in txt_list:\n",
    "    with open(txt_file, \"r\") as f:\n",
    "        raw = f.read().splitlines()\n",
    "        raw_corpus.extend(raw)\n",
    "\n",
    "print(\"데이터 크기:\", len(raw_corpus))\n",
    "print(\"Examples:\\n\", raw_corpus[:3])\n"
   ]
  },
  {
   "cell_type": "code",
   "execution_count": 2,
   "id": "capital-price",
   "metadata": {},
   "outputs": [
    {
     "name": "stdout",
     "output_type": "stream",
     "text": [
      " There must be some kind of way outta here\n",
      "Said the joker to the thief\n",
      "There's too much confusion\n",
      "I can't get no relief Business men, they drink my wine\n",
      "Plowman dig my earth\n",
      "None were level on the mind\n",
      "Nobody up at his word\n",
      "Hey, hey No reason to get excited\n",
      "The thief he kindly spoke\n",
      "There are many here among us\n"
     ]
    }
   ],
   "source": [
    "for idx, sentence in enumerate(raw_corpus):\n",
    "    if len(sentence) == 0: continue   # 길이가 0인 문장은 건너뜁니다.\n",
    "    if sentence[-1] == \":\": continue  # 문장의 끝이 : 인 문장은 건너뜁니다.\n",
    "\n",
    "    if idx > 9: break   # 일단 문장 10개만 확인해 볼 겁니다.\n",
    "        \n",
    "    print(sentence)"
   ]
  },
  {
   "cell_type": "markdown",
   "id": "cleared-wright",
   "metadata": {},
   "source": [
    "### 데이터 전처리"
   ]
  },
  {
   "cell_type": "code",
   "execution_count": 3,
   "id": "atomic-lighter",
   "metadata": {},
   "outputs": [
    {
     "name": "stdout",
     "output_type": "stream",
     "text": [
      "<start> this is sample sentence . <end>\n"
     ]
    }
   ],
   "source": [
    "import re\n",
    "# 입력된 문장을\n",
    "#     1. 소문자로 바꾸고, 양쪽 공백을 지웁니다\n",
    "#     2. 특수문자 양쪽에 공백을 넣고\n",
    "#     3. 여러개의 공백은 하나의 공백으로 바꿉니다\n",
    "#     4. a-zA-Z?.!,¿가 아닌 모든 문자를 하나의 공백으로 바꿉니다\n",
    "#     5. 다시 양쪽 공백을 지웁니다\n",
    "#     6. 문장 시작에는 <start>, 끝에는 <end>를 추가합니다\n",
    "# 이 순서로 처리해주면 문제가 되는 상황을 방지할 수 있겠네요!\n",
    "def preprocess_sentence(sentence):\n",
    "    sentence = sentence.lower().strip() # 1\n",
    "    sentence = re.sub(r\"([?.!,¿])\", r\" \\1 \", sentence) # 2\n",
    "    sentence = re.sub(r'[\" \"]+', \" \", sentence) # 3\n",
    "    sentence = re.sub(r\"[^a-zA-Z?.!,¿]+\", \" \", sentence) # 4\n",
    "    sentence = sentence.strip() # 5\n",
    "    sentence = '<start> ' + sentence + ' <end>' # 6\n",
    "    return sentence\n",
    "\n",
    "# 이 문장이 어떻게 필터링되는지 확인해 보세요.\n",
    "print(preprocess_sentence(\"This @_is ;;;sample        sentence.\"))"
   ]
  },
  {
   "cell_type": "code",
   "execution_count": 4,
   "id": "labeled-webmaster",
   "metadata": {},
   "outputs": [
    {
     "data": {
      "text/plain": [
       "175986"
      ]
     },
     "execution_count": 4,
     "metadata": {},
     "output_type": "execute_result"
    }
   ],
   "source": [
    "\n",
    "corpus = []\n",
    "\n",
    "for sentence in raw_corpus:\n",
    "    if len(sentence) == 0:\n",
    "        continue\n",
    "\n",
    "    corpus.append(preprocess_sentence(sentence))\n",
    "\n",
    "corpus[:100]\n",
    "len(corpus)"
   ]
  },
  {
   "cell_type": "markdown",
   "id": "adjusted-springer",
   "metadata": {},
   "source": [
    "### 데이터 토큰화 "
   ]
  },
  {
   "cell_type": "code",
   "execution_count": 5,
   "id": "wanted-difficulty",
   "metadata": {},
   "outputs": [
    {
     "name": "stdout",
     "output_type": "stream",
     "text": [
      "[[  2  64 280 ...   0   0   0]\n",
      " [  2 107   6 ...   0   0   0]\n",
      " [  2  64  16 ...   0   0   0]\n",
      " ...\n",
      " [  2  75  46 ...   0   0   0]\n",
      " [  2  49   4 ...   0   0   0]\n",
      " [  2  13 640 ...   0   0   0]] \n",
      " <keras_preprocessing.text.Tokenizer object at 0x7f1f851e8d90>\n"
     ]
    },
    {
     "data": {
      "text/plain": [
       "(175986, 175986)"
      ]
     },
     "execution_count": 5,
     "metadata": {},
     "output_type": "execute_result"
    }
   ],
   "source": [
    "import tensorflow as tf\n",
    "\n",
    "# 토큰화 할 때 텐서플로우의 Tokenizer와 pad_sequences를 사용합니다\n",
    "# 더 잘 알기 위해 아래 문서들을 참고하면 좋습니다\n",
    "# https://www.tensorflow.org/api_docs/python/tf/keras/preprocessing/text/Tokenizer\n",
    "# https://www.tensorflow.org/api_docs/python/tf/keras/preprocessing/sequence/pad_sequences\n",
    "def tokenize(corpus):\n",
    "    # 12000단어를 기억할 수 있는 tokenizer를 만들겁니다\n",
    "    # 우리는 이미 문장을 정제했으니 filters가 필요없어요\n",
    "    # 12000단어에 포함되지 못한 단어는 '<unk>'로 바꿀거에요\n",
    "    tokenizer = tf.keras.preprocessing.text.Tokenizer(\n",
    "        num_words=12000, \n",
    "        filters=' ',\n",
    "        oov_token=\"<unk>\"\n",
    "    )\n",
    "    # corpus를 이용해 tokenizer 내부의 단어장을 완성합니다\n",
    "    tokenizer.fit_on_texts(corpus)\n",
    "    # 준비한 tokenizer를 이용해 corpus를 Tensor로 변환합니다\n",
    "    tensor = tokenizer.texts_to_sequences(corpus)   \n",
    "    # 입력 데이터의 시퀀스 길이를 일정하게 맞춰줍니다\n",
    "    # 만약 시퀀스가 짧다면 문장 뒤에 패딩을 붙여 길이를 맞춰줍니다.\n",
    "    # 문장 앞에 패딩을 붙여 길이를 맞추고 싶다면 padding='pre'를 사용합니다\n",
    "    tensor = tf.keras.preprocessing.sequence.pad_sequences(tensor, maxlen=20, padding='post')\n",
    "    \n",
    "    print(tensor,'\\n', tokenizer)\n",
    "    return tensor, tokenizer\n",
    "\n",
    "tensor, tokenizer = tokenize(corpus)\n",
    "\n",
    "len(tensor), len(corpus)"
   ]
  },
  {
   "cell_type": "code",
   "execution_count": 6,
   "id": "social-assurance",
   "metadata": {},
   "outputs": [
    {
     "name": "stdout",
     "output_type": "stream",
     "text": [
      "[[   2   64  280   27   99  528   19   85  779   93    3    0]\n",
      " [   2  107    6 6490   10    6 2478    3    0    0    0    0]\n",
      " [   2   64   16  104  178 2966    3    0    0    0    0    0]\n",
      " [   2    5   32   15   44   38 5344  783  622    4   45  470]\n",
      " [   2    1  993   13  672    3    0    0    0    0    0    0]\n",
      " [   2  891  176 1978   18    6  169    3    0    0    0    0]\n",
      " [   2  238   29   71  105  475    3    0    0    0    0    0]\n",
      " [   2  135    4  135   38  566   10   44 2839    3    0    0]\n",
      " [   2    6 2478   55 5044 1765    3    0    0    0    0    0]\n",
      " [   2   64   77  302   93 2186  131    3    0    0    0    0]]\n"
     ]
    }
   ],
   "source": [
    "print(tensor[:10, :12])"
   ]
  },
  {
   "cell_type": "code",
   "execution_count": 7,
   "id": "pregnant-italian",
   "metadata": {},
   "outputs": [
    {
     "name": "stdout",
     "output_type": "stream",
     "text": [
      "1 : <unk>\n",
      "2 : <start>\n",
      "3 : <end>\n",
      "4 : ,\n",
      "5 : i\n",
      "6 : the\n",
      "7 : you\n",
      "8 : and\n",
      "9 : a\n",
      "10 : to\n"
     ]
    }
   ],
   "source": [
    "for idx in tokenizer.index_word:\n",
    "    print(idx, \":\", tokenizer.index_word[idx])\n",
    "\n",
    "    if idx >= 10: break"
   ]
  },
  {
   "cell_type": "markdown",
   "id": "religious-precipitation",
   "metadata": {},
   "source": [
    "### 데이터 분할"
   ]
  },
  {
   "cell_type": "code",
   "execution_count": 8,
   "id": "southwest-dayton",
   "metadata": {},
   "outputs": [
    {
     "name": "stdout",
     "output_type": "stream",
     "text": [
      "[  2  64 280  27  99 528  19  85 779  93   3   0   0   0   0   0   0   0\n",
      "   0]\n",
      "[ 64 280  27  99 528  19  85 779  93   3   0   0   0   0   0   0   0   0\n",
      "   0]\n"
     ]
    }
   ],
   "source": [
    "# tensor에서 마지막 토큰을 잘라내서 소스 문장을 생성합니다\n",
    "# 마지막 토큰은 <end>가 아니라 <pad>일 가능성이 높습니다.\n",
    "src_input = tensor[:, :-1]  \n",
    "# tensor에서 <start>를 잘라내서 타겟 문장을 생성합니다.\n",
    "tgt_input = tensor[:, 1:]    \n",
    "\n",
    "print(src_input[0])\n",
    "print(tgt_input[0])"
   ]
  },
  {
   "cell_type": "code",
   "execution_count": 9,
   "id": "prime-norman",
   "metadata": {},
   "outputs": [
    {
     "name": "stdout",
     "output_type": "stream",
     "text": [
      "Source Train: (140788, 19)\n",
      "Target Train: (140788, 19)\n"
     ]
    }
   ],
   "source": [
    "from sklearn.model_selection import train_test_split\n",
    "\n",
    "enc_train, enc_val, dec_train, enc_val = train_test_split(src_input, tgt_input, test_size=0.2)\n",
    "\n",
    "print(\"Source Train:\", enc_train.shape)\n",
    "print(\"Target Train:\", dec_train.shape)"
   ]
  },
  {
   "cell_type": "code",
   "execution_count": 10,
   "id": "pressed-doctor",
   "metadata": {},
   "outputs": [
    {
     "name": "stdout",
     "output_type": "stream",
     "text": [
      "175986\n"
     ]
    },
    {
     "data": {
      "text/plain": [
       "<BatchDataset shapes: ((256, 19), (256, 19)), types: (tf.int32, tf.int32)>"
      ]
     },
     "execution_count": 10,
     "metadata": {},
     "output_type": "execute_result"
    }
   ],
   "source": [
    "BUFFER_SIZE = len(src_input)\n",
    "print(BUFFER_SIZE)\n",
    "BATCH_SIZE = 256\n",
    "steps_per_epoch = len(src_input) // BATCH_SIZE\n",
    "\n",
    " # tokenizer가 구축한 단어사전 내 7000개와, 여기 포함되지 않은 0:<pad>를 포함하여 7001개\n",
    "VOCAB_SIZE = tokenizer.num_words + 1   \n",
    "\n",
    "# 준비한 데이터 소스로부터 데이터셋을 만듭니다\n",
    "# 데이터셋에 대해서는 아래 문서를 참고하세요\n",
    "# 자세히 알아둘수록 도움이 많이 되는 중요한 문서입니다\n",
    "# https://www.tensorflow.org/api_docs/python/tf/data/Dataset\n",
    "dataset = tf.data.Dataset.from_tensor_slices((src_input, tgt_input))\n",
    "dataset = dataset.shuffle(BUFFER_SIZE)\n",
    "dataset = dataset.batch(BATCH_SIZE, drop_remainder=True)\n",
    "dataset"
   ]
  },
  {
   "cell_type": "markdown",
   "id": "excess-passenger",
   "metadata": {},
   "source": [
    "### 텍스트 모델 생성"
   ]
  },
  {
   "cell_type": "code",
   "execution_count": 11,
   "id": "alleged-bruce",
   "metadata": {},
   "outputs": [],
   "source": [
    "class TextGenerator(tf.keras.Model):\n",
    "    def __init__(self, vocab_size, embedding_size, hidden_size):\n",
    "        super().__init__()\n",
    "        \n",
    "        self.embedding = tf.keras.layers.Embedding(vocab_size, embedding_size)\n",
    "        self.rnn_1 = tf.keras.layers.LSTM(hidden_size, return_sequences=True)\n",
    "        self.rnn_2 = tf.keras.layers.LSTM(hidden_size, return_sequences=True)\n",
    "        self.linear = tf.keras.layers.Dense(vocab_size)\n",
    "        \n",
    "    def call(self, x):\n",
    "        out = self.embedding(x)\n",
    "        out = self.rnn_1(out)\n",
    "        out = self.rnn_2(out)\n",
    "        out = self.linear(out)\n",
    "        \n",
    "        return out\n",
    "    \n",
    "embedding_size = 256\n",
    "hidden_size = 1024\n",
    "model = TextGenerator(tokenizer.num_words + 1, embedding_size , hidden_size)"
   ]
  },
  {
   "cell_type": "code",
   "execution_count": 12,
   "id": "hydraulic-distance",
   "metadata": {},
   "outputs": [
    {
     "data": {
      "text/plain": [
       "<tf.Tensor: shape=(256, 19, 12001), dtype=float32, numpy=\n",
       "array([[[ 5.77662722e-05, -2.01872288e-04,  6.88908549e-05, ...,\n",
       "          4.32757042e-05,  8.33604718e-05,  3.94492636e-05],\n",
       "        [ 4.45137630e-05, -2.45874369e-04,  1.01058649e-04, ...,\n",
       "         -1.48748913e-05,  8.63156893e-05,  1.08451532e-04],\n",
       "        [ 7.53570130e-05, -1.66137164e-04,  1.08017863e-04, ...,\n",
       "         -2.39388813e-04,  7.54687499e-05,  6.62839520e-05],\n",
       "        ...,\n",
       "        [ 8.71183467e-04,  8.01534450e-04,  2.50482495e-04, ...,\n",
       "         -2.35191255e-04,  5.55614475e-04, -1.10973662e-03],\n",
       "        [ 1.16467557e-03,  9.28541645e-04,  3.03810055e-04, ...,\n",
       "         -2.07216843e-04,  5.53928141e-04, -1.31371943e-03],\n",
       "        [ 1.44003297e-03,  1.04449771e-03,  3.41374776e-04, ...,\n",
       "         -1.73404929e-04,  5.59022068e-04, -1.51017925e-03]],\n",
       "\n",
       "       [[ 5.77662722e-05, -2.01872288e-04,  6.88908549e-05, ...,\n",
       "          4.32757042e-05,  8.33604718e-05,  3.94492636e-05],\n",
       "        [-2.62575013e-05, -4.87911690e-04, -6.96842253e-05, ...,\n",
       "         -4.76656787e-05,  1.67289196e-04,  1.37951793e-04],\n",
       "        [-2.26235818e-04, -6.36583951e-04, -2.17329693e-06, ...,\n",
       "         -1.75973299e-04,  1.92411419e-04,  3.50848102e-04],\n",
       "        ...,\n",
       "        [ 1.50806701e-03,  8.31430429e-04, -4.46168648e-04, ...,\n",
       "         -9.50745773e-04,  7.31575652e-04, -6.76006312e-04],\n",
       "        [ 1.75084826e-03,  1.01444055e-03, -4.26964805e-04, ...,\n",
       "         -7.74575106e-04,  7.46604754e-04, -9.45038511e-04],\n",
       "        [ 1.95913599e-03,  1.17658114e-03, -3.94149887e-04, ...,\n",
       "         -6.12097618e-04,  7.57860544e-04, -1.19525741e-03]],\n",
       "\n",
       "       [[ 5.77662722e-05, -2.01872288e-04,  6.88908549e-05, ...,\n",
       "          4.32757042e-05,  8.33604718e-05,  3.94492636e-05],\n",
       "        [ 1.53353220e-04, -2.35636704e-04,  4.31720036e-05, ...,\n",
       "         -1.52724286e-04,  9.75683724e-05, -2.08792289e-06],\n",
       "        [ 2.24448358e-05, -2.98682397e-04,  3.69016379e-05, ...,\n",
       "         -4.04390419e-04,  4.07266460e-04, -1.46331484e-04],\n",
       "        ...,\n",
       "        [ 8.91149510e-04,  1.24980012e-04,  3.61126091e-04, ...,\n",
       "          5.11737335e-06, -4.84655931e-04, -9.24413209e-04],\n",
       "        [ 1.14035688e-03,  3.46152199e-04,  3.87584994e-04, ...,\n",
       "          5.33717102e-05, -3.95301293e-04, -1.19418208e-03],\n",
       "        [ 1.38045708e-03,  5.47451549e-04,  4.00255143e-04, ...,\n",
       "          9.61394835e-05, -2.86031544e-04, -1.45008555e-03]],\n",
       "\n",
       "       ...,\n",
       "\n",
       "       [[ 5.77662722e-05, -2.01872288e-04,  6.88908549e-05, ...,\n",
       "          4.32757042e-05,  8.33604718e-05,  3.94492636e-05],\n",
       "        [ 2.34936073e-04, -1.59676201e-04, -8.13632141e-05, ...,\n",
       "         -6.99071388e-05, -2.20062248e-06,  1.42872203e-04],\n",
       "        [ 3.01232474e-04,  2.92528530e-05, -4.05387749e-04, ...,\n",
       "         -2.05109085e-04, -9.89629189e-05,  3.19479266e-04],\n",
       "        ...,\n",
       "        [ 9.96963819e-04,  6.42724553e-05,  5.86928625e-04, ...,\n",
       "         -2.01801115e-04,  3.76978336e-04, -1.41599285e-03],\n",
       "        [ 1.28249591e-03,  2.74000049e-04,  5.56476996e-04, ...,\n",
       "         -1.46993654e-04,  4.43503319e-04, -1.59623276e-03],\n",
       "        [ 1.54588942e-03,  4.67038917e-04,  5.22473420e-04, ...,\n",
       "         -9.47945882e-05,  5.01325529e-04, -1.76624651e-03]],\n",
       "\n",
       "       [[ 5.77662722e-05, -2.01872288e-04,  6.88908549e-05, ...,\n",
       "          4.32757042e-05,  8.33604718e-05,  3.94492636e-05],\n",
       "        [ 4.45137630e-05, -2.45874369e-04,  1.01058649e-04, ...,\n",
       "         -1.48748913e-05,  8.63156893e-05,  1.08451532e-04],\n",
       "        [-2.77459068e-04, -2.71554367e-04,  1.70725019e-04, ...,\n",
       "         -7.48916136e-05, -2.30830134e-04,  1.37841504e-04],\n",
       "        ...,\n",
       "        [ 7.86377233e-04,  4.18328331e-04, -1.19740621e-03, ...,\n",
       "          4.64415847e-04, -1.18463824e-03, -1.16772659e-03],\n",
       "        [ 1.13950134e-03,  5.97700186e-04, -9.77694988e-04, ...,\n",
       "          5.08302241e-04, -9.84071754e-04, -1.43820257e-03],\n",
       "        [ 1.45348825e-03,  7.72769039e-04, -7.77435722e-04, ...,\n",
       "          5.35646570e-04, -7.80855946e-04, -1.68125820e-03]],\n",
       "\n",
       "       [[ 5.77662722e-05, -2.01872288e-04,  6.88908549e-05, ...,\n",
       "          4.32757042e-05,  8.33604718e-05,  3.94492636e-05],\n",
       "        [ 1.11683898e-04, -4.00319957e-04, -1.10755675e-04, ...,\n",
       "          2.18183603e-04,  1.92035324e-04,  2.62003887e-04],\n",
       "        [ 1.43109763e-04, -6.34955650e-04, -2.47882184e-04, ...,\n",
       "          3.85037885e-04,  1.60127747e-04,  5.94421639e-04],\n",
       "        ...,\n",
       "        [ 1.58709663e-04,  9.45393913e-05,  3.07896291e-04, ...,\n",
       "         -7.01461337e-04, -1.75308916e-04, -1.16031663e-03],\n",
       "        [ 4.81684634e-04,  2.87963543e-04,  3.28649505e-04, ...,\n",
       "         -5.79409942e-04, -1.18080003e-04, -1.33545627e-03],\n",
       "        [ 7.87645695e-04,  4.76399902e-04,  3.48070520e-04, ...,\n",
       "         -4.68120590e-04, -4.44217112e-05, -1.52475934e-03]]],\n",
       "      dtype=float32)>"
      ]
     },
     "execution_count": 12,
     "metadata": {},
     "output_type": "execute_result"
    }
   ],
   "source": [
    "# 데이터셋에서 데이터 한 배치만 불러오는 방법입니다.\n",
    "# 지금은 동작 원리에 너무 빠져들지 마세요~\n",
    "for src_sample, tgt_sample in dataset.take(1): break\n",
    "\n",
    "# 한 배치만 불러온 데이터를 모델에 넣어봅니다\n",
    "model(src_sample)"
   ]
  },
  {
   "cell_type": "code",
   "execution_count": 13,
   "id": "biological-relevance",
   "metadata": {},
   "outputs": [
    {
     "name": "stdout",
     "output_type": "stream",
     "text": [
      "Model: \"text_generator\"\n",
      "_________________________________________________________________\n",
      "Layer (type)                 Output Shape              Param #   \n",
      "=================================================================\n",
      "embedding (Embedding)        multiple                  3072256   \n",
      "_________________________________________________________________\n",
      "lstm (LSTM)                  multiple                  5246976   \n",
      "_________________________________________________________________\n",
      "lstm_1 (LSTM)                multiple                  8392704   \n",
      "_________________________________________________________________\n",
      "dense (Dense)                multiple                  12301025  \n",
      "=================================================================\n",
      "Total params: 29,012,961\n",
      "Trainable params: 29,012,961\n",
      "Non-trainable params: 0\n",
      "_________________________________________________________________\n"
     ]
    }
   ],
   "source": [
    "model.summary()"
   ]
  },
  {
   "cell_type": "code",
   "execution_count": null,
   "id": "molecular-carnival",
   "metadata": {},
   "outputs": [
    {
     "name": "stdout",
     "output_type": "stream",
     "text": [
      "Epoch 1/10\n",
      "687/687 [==============================] - 282s 406ms/step - loss: 3.3710\n",
      "Epoch 2/10\n",
      "687/687 [==============================] - 281s 409ms/step - loss: 2.5077\n",
      "Epoch 3/10\n",
      "687/687 [==============================] - 287s 417ms/step - loss: 2.3438\n",
      "Epoch 4/10\n",
      "687/687 [==============================] - 279s 406ms/step - loss: 2.2285\n",
      "Epoch 5/10\n",
      "687/687 [==============================] - 281s 408ms/step - loss: 2.1321\n",
      "Epoch 6/10\n",
      "687/687 [==============================] - 280s 408ms/step - loss: 2.0471\n",
      "Epoch 7/10\n",
      "687/687 [==============================] - 280s 408ms/step - loss: 1.9647\n",
      "Epoch 8/10\n",
      "504/687 [=====================>........] - ETA: 1:14 - loss: 1.8902"
     ]
    }
   ],
   "source": [
    "# optimizer와 loss등은 차차 배웁니다\n",
    "# 혹시 미리 알고 싶다면 아래 문서를 참고하세요\n",
    "# https://www.tensorflow.org/api_docs/python/tf/keras/optimizers\n",
    "# https://www.tensorflow.org/api_docs/python/tf/keras/losses\n",
    "# 양이 상당히 많은 편이니 지금 보는 것은 추천하지 않습니다\n",
    "optimizer = tf.keras.optimizers.Adam()\n",
    "loss = tf.keras.losses.SparseCategoricalCrossentropy(\n",
    "    from_logits=True, reduction='none')\n",
    "\n",
    "model.compile(loss=loss, optimizer=optimizer)\n",
    "model.fit(dataset, epochs=10)"
   ]
  },
  {
   "cell_type": "markdown",
   "id": "median-vampire",
   "metadata": {},
   "source": [
    "### 모델 성능 평가 "
   ]
  },
  {
   "cell_type": "code",
   "execution_count": null,
   "id": "invisible-database",
   "metadata": {},
   "outputs": [],
   "source": [
    "def generate_text(model, tokenizer, init_sentence=\"<start>\", max_len=20):\n",
    "    # 테스트를 위해서 입력받은 init_sentence도 텐서로 변환합니다\n",
    "    test_input = tokenizer.texts_to_sequences([init_sentence])\n",
    "    test_tensor = tf.convert_to_tensor(test_input, dtype=tf.int64)\n",
    "    end_token = tokenizer.word_index[\"<end>\"]\n",
    "\n",
    "    # 단어 하나씩 예측해 문장을 만듭니다\n",
    "    #    1. 입력받은 문장의 텐서를 입력합니다\n",
    "    #    2. 예측된 값 중 가장 높은 확률인 word index를 뽑아냅니다\n",
    "    #    3. 2에서 예측된 word index를 문장 뒤에 붙입니다\n",
    "    #    4. 모델이 <end>를 예측했거나, max_len에 도달했다면 문장 생성을 마칩니다\n",
    "    while True:\n",
    "        # 1\n",
    "        predict = model(test_tensor) \n",
    "        # 2\n",
    "        predict_word = tf.argmax(tf.nn.softmax(predict, axis=-1), axis=-1)[:, -1] \n",
    "        # 3 \n",
    "        test_tensor = tf.concat([test_tensor, tf.expand_dims(predict_word, axis=0)], axis=-1)\n",
    "        # 4\n",
    "        if predict_word.numpy()[0] == end_token: break\n",
    "        if test_tensor.shape[1] >= max_len: break\n",
    "\n",
    "    generated = \"\"\n",
    "    # tokenizer를 이용해 word index를 단어로 하나씩 변환합니다 \n",
    "    for word_index in test_tensor[0].numpy():\n",
    "        generated += tokenizer.index_word[word_index] + \" \"\n",
    "\n",
    "    return generated"
   ]
  },
  {
   "cell_type": "code",
   "execution_count": null,
   "id": "offensive-replacement",
   "metadata": {},
   "outputs": [],
   "source": [
    "generate_text(model, tokenizer, init_sentence=\"<start> i love\", max_len=20)"
   ]
  },
  {
   "cell_type": "code",
   "execution_count": null,
   "id": "developmental-grounds",
   "metadata": {},
   "outputs": [],
   "source": [
    "generate_text(model, tokenizer, init_sentence=\"<start> miss you\", max_len=20)"
   ]
  },
  {
   "cell_type": "code",
   "execution_count": null,
   "id": "arranged-islam",
   "metadata": {},
   "outputs": [],
   "source": [
    "generate_text(model, tokenizer, init_sentence=\"<start> i want\", max_len=20)"
   ]
  },
  {
   "cell_type": "code",
   "execution_count": null,
   "id": "handmade-bulgaria",
   "metadata": {},
   "outputs": [],
   "source": [
    "generate_text(model, tokenizer, init_sentence=\"<start> i cannot wait\", max_len=20)"
   ]
  },
  {
   "cell_type": "code",
   "execution_count": null,
   "id": "italian-tribute",
   "metadata": {},
   "outputs": [],
   "source": [
    "generate_text(model, tokenizer, init_sentence=\"<start> merry me\", max_len=20)"
   ]
  },
  {
   "cell_type": "code",
   "execution_count": null,
   "id": "eligible-durham",
   "metadata": {},
   "outputs": [],
   "source": [
    "generate_text(model, tokenizer, init_sentence=\"<start> kiss me\", max_len=20)"
   ]
  },
  {
   "cell_type": "markdown",
   "id": "reduced-walker",
   "metadata": {},
   "source": [
    "### 느낀 점 \n",
    "\n",
    "#### 앞으로 한국어 가사로 한번 만들어 볼 생각이다. \n",
    "#### 전처럼 막 실행 해 볼 수 없는 처음으로 시간에 대해 고민해 보게 만드는 프로젝트 였다."
   ]
  }
 ],
 "metadata": {
  "kernelspec": {
   "display_name": "Python 3",
   "language": "python",
   "name": "python3"
  },
  "language_info": {
   "codemirror_mode": {
    "name": "ipython",
    "version": 3
   },
   "file_extension": ".py",
   "mimetype": "text/x-python",
   "name": "python",
   "nbconvert_exporter": "python",
   "pygments_lexer": "ipython3",
   "version": "3.7.9"
  }
 },
 "nbformat": 4,
 "nbformat_minor": 5
}
