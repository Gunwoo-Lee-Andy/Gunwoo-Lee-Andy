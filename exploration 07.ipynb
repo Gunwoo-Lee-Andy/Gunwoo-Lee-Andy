{
 "cells": [
  {
   "cell_type": "code",
   "execution_count": 1,
   "id": "european-beach",
   "metadata": {},
   "outputs": [
    {
     "data": {
      "text/html": [
       "<div>\n",
       "<style scoped>\n",
       "    .dataframe tbody tr th:only-of-type {\n",
       "        vertical-align: middle;\n",
       "    }\n",
       "\n",
       "    .dataframe tbody tr th {\n",
       "        vertical-align: top;\n",
       "    }\n",
       "\n",
       "    .dataframe thead th {\n",
       "        text-align: right;\n",
       "    }\n",
       "</style>\n",
       "<table border=\"1\" class=\"dataframe\">\n",
       "  <thead>\n",
       "    <tr style=\"text-align: right;\">\n",
       "      <th></th>\n",
       "      <th>id</th>\n",
       "      <th>document</th>\n",
       "      <th>label</th>\n",
       "    </tr>\n",
       "  </thead>\n",
       "  <tbody>\n",
       "    <tr>\n",
       "      <th>0</th>\n",
       "      <td>9976970</td>\n",
       "      <td>아 더빙.. 진짜 짜증나네요 목소리</td>\n",
       "      <td>0</td>\n",
       "    </tr>\n",
       "    <tr>\n",
       "      <th>1</th>\n",
       "      <td>3819312</td>\n",
       "      <td>흠...포스터보고 초딩영화줄....오버연기조차 가볍지 않구나</td>\n",
       "      <td>1</td>\n",
       "    </tr>\n",
       "    <tr>\n",
       "      <th>2</th>\n",
       "      <td>10265843</td>\n",
       "      <td>너무재밓었다그래서보는것을추천한다</td>\n",
       "      <td>0</td>\n",
       "    </tr>\n",
       "    <tr>\n",
       "      <th>3</th>\n",
       "      <td>9045019</td>\n",
       "      <td>교도소 이야기구먼 ..솔직히 재미는 없다..평점 조정</td>\n",
       "      <td>0</td>\n",
       "    </tr>\n",
       "    <tr>\n",
       "      <th>4</th>\n",
       "      <td>6483659</td>\n",
       "      <td>사이몬페그의 익살스런 연기가 돋보였던 영화!스파이더맨에서 늙어보이기만 했던 커스틴 ...</td>\n",
       "      <td>1</td>\n",
       "    </tr>\n",
       "  </tbody>\n",
       "</table>\n",
       "</div>"
      ],
      "text/plain": [
       "         id                                           document  label\n",
       "0   9976970                                아 더빙.. 진짜 짜증나네요 목소리      0\n",
       "1   3819312                  흠...포스터보고 초딩영화줄....오버연기조차 가볍지 않구나      1\n",
       "2  10265843                                  너무재밓었다그래서보는것을추천한다      0\n",
       "3   9045019                      교도소 이야기구먼 ..솔직히 재미는 없다..평점 조정      0\n",
       "4   6483659  사이몬페그의 익살스런 연기가 돋보였던 영화!스파이더맨에서 늙어보이기만 했던 커스틴 ...      1"
      ]
     },
     "execution_count": 1,
     "metadata": {},
     "output_type": "execute_result"
    }
   ],
   "source": [
    "import pandas as pd\n",
    "import urllib.request\n",
    "%matplotlib inline\n",
    "import matplotlib.pyplot as plt\n",
    "import re\n",
    "from konlpy.tag import Okt\n",
    "from tensorflow import keras\n",
    "from tensorflow.keras.preprocessing.text import Tokenizer\n",
    "import numpy as np\n",
    "from tensorflow.keras.preprocessing.sequence import pad_sequences\n",
    "from collections import Counter\n",
    "\n",
    "# 데이터를 읽어봅시다. \n",
    "train_data = pd.read_table('~/aiffel/sentiment_classification/data/ratings_train.txt')\n",
    "test_data = pd.read_table('~/aiffel/sentiment_classification/data/ratings_test.txt')\n",
    "\n",
    "train_data.head()"
   ]
  },
  {
   "cell_type": "code",
   "execution_count": 2,
   "id": "tired-authority",
   "metadata": {},
   "outputs": [
    {
     "name": "stdout",
     "output_type": "stream",
     "text": [
      "훈련 샘플 개수: 146182, 테스트 개수: 49157\n",
      "53965\n"
     ]
    }
   ],
   "source": [
    "from konlpy.tag import Mecab\n",
    "tokenizer = Mecab()\n",
    "stopwords = ['의','가','이','은','들','는','좀','잘','걍','과','도','를','으로','자','에','와','한','하다']\n",
    "\n",
    "def load_data(train_data, test_data, num_words=10000):\n",
    "    train_data.drop_duplicates(subset=['document'], inplace=True)\n",
    "    train_data = train_data.dropna(how = 'any') \n",
    "    test_data.drop_duplicates(subset=['document'], inplace=True)\n",
    "    test_data = test_data.dropna(how = 'any') \n",
    "    \n",
    "    X_train = []\n",
    "    for sentence in train_data['document']:\n",
    "        temp_X = tokenizer.morphs(sentence) # 토큰화\n",
    "        temp_X = [word for word in temp_X if not word in stopwords] # 불용어 제거\n",
    "        X_train.append(temp_X)\n",
    "\n",
    "    X_test = []\n",
    "    for sentence in test_data['document']:\n",
    "        temp_X = tokenizer.morphs(sentence) # 토큰화\n",
    "        temp_X = [word for word in temp_X if not word in stopwords] # 불용어 제거\n",
    "        X_test.append(temp_X)\n",
    "    \n",
    "    words = np.concatenate(X_train).tolist()\n",
    "    counter = Counter(words)\n",
    "    counter = counter.most_common(70000-4)\n",
    "    vocab = ['<PAD>', '<BOS>', '<UNK>', '<UNUSED>'] + [key for key, _ in counter]\n",
    "    word_to_index = {word:index for index, word in enumerate(vocab)}\n",
    "        \n",
    "    def wordlist_to_indexlist(wordlist):\n",
    "        return [word_to_index[word] if word in word_to_index else word_to_index['<UNK>'] for word in wordlist]\n",
    "        \n",
    "    X_train = list(map(wordlist_to_indexlist, X_train))\n",
    "    X_test = list(map(wordlist_to_indexlist, X_test))\n",
    "        \n",
    "    return X_train, np.array(list(train_data['label'])), X_test, np.array(list(test_data['label'])), word_to_index\n",
    "    \n",
    "X_train, y_train, X_test, y_test, word_to_index = load_data(train_data, test_data) \n",
    "print(\"훈련 샘플 개수: {}, 테스트 개수: {}\".format(len(X_train), len(X_test)))\n",
    "print(len(word_to_index))"
   ]
  },
  {
   "cell_type": "code",
   "execution_count": 3,
   "id": "educational-whole",
   "metadata": {},
   "outputs": [],
   "source": [
    "index_to_word = {index:word for word, index in word_to_index.items()}"
   ]
  },
  {
   "cell_type": "code",
   "execution_count": 4,
   "id": "approved-flood",
   "metadata": {},
   "outputs": [],
   "source": [
    "# 문장 1개를 활용할 딕셔너리와 함께 주면, 단어 인덱스 리스트 벡터로 변환해 주는 함수입니다. \n",
    "# 단, 모든 문장은 <BOS>로 시작하는 것으로 합니다. \n",
    "def get_encoded_sentence(sentence, word_to_index):\n",
    "    return [word_to_index['<BOS>']]+[word_to_index[word] if word in word_to_index else word_to_index['<UNK>'] for word in sentence.split()]\n",
    "\n",
    "# 여러 개의 문장 리스트를 한꺼번에 단어 인덱스 리스트 벡터로 encode해 주는 함수입니다. \n",
    "def get_encoded_sentences(sentences, word_to_index):\n",
    "    return [get_encoded_sentence(sentence, word_to_index) for sentence in sentences]\n",
    "\n",
    "# 숫자 벡터로 encode된 문장을 원래대로 decode하는 함수입니다. \n",
    "def get_decoded_sentence(encoded_sentence, index_to_word):\n",
    "    return ' '.join(index_to_word[index] if index in index_to_word else '<UNK>' for index in encoded_sentence[1:])  #[1:]를 통해 <BOS>를 제외\n",
    "\n",
    "# 여러 개의 숫자 벡터로 encode된 문장을 한꺼번에 원래대로 decode하는 함수입니다. \n",
    "def get_decoded_sentences(encoded_sentences, index_to_word):\n",
    "    return [get_decoded_sentence(encoded_sentence, index_to_word) for encoded_sentence in encoded_sentences]"
   ]
  },
  {
   "cell_type": "code",
   "execution_count": 5,
   "id": "destroyed-composer",
   "metadata": {},
   "outputs": [
    {
     "name": "stdout",
     "output_type": "stream",
     "text": [
      "1번째 리뷰 문장 길이:  10\n",
      "2번째 리뷰 문장 길이:  17\n"
     ]
    }
   ],
   "source": [
    "print('1번째 리뷰 문장 길이: ', len(X_train[0]))\n",
    "print('2번째 리뷰 문장 길이: ', len(X_train[1]))"
   ]
  },
  {
   "cell_type": "code",
   "execution_count": 6,
   "id": "about-exhibit",
   "metadata": {},
   "outputs": [
    {
     "name": "stdout",
     "output_type": "stream",
     "text": [
      "문장길이 평균 :  15.96940191154864\n",
      "문장길이 최대 :  116\n",
      "문장길이 표준편차 :  12.843571191092\n",
      "pad_sequences maxlen :  41\n",
      "전체 문장의 0.9342988343341575%가 maxlen 설정값 이내에 포함됩니다. \n"
     ]
    }
   ],
   "source": [
    "total_data_text = list(X_train) + list(X_test)\n",
    "# 텍스트데이터 문장길이의 리스트를 생성\n",
    "num_tokens = [len(tokens) for tokens in total_data_text]\n",
    "\n",
    "num_tokens = np.array(num_tokens)\n",
    "# 문장길이의 평균값, 최대값, 표준편차를 계산\n",
    "print('문장길이 평균 : ', np.mean(num_tokens))\n",
    "print('문장길이 최대 : ', np.max(num_tokens))\n",
    "print('문장길이 표준편차 : ', np.std(num_tokens))\n",
    "\n",
    "# 예를들어, 최대 길이를 (평균 + 2*표준편차)로 한다면,  \n",
    "max_tokens = np.mean(num_tokens) + 2 * np.std(num_tokens)\n",
    "maxlen = int(max_tokens)\n",
    "print('pad_sequences maxlen : ', maxlen)\n",
    "print('전체 문장의 {}%가 maxlen 설정값 이내에 포함됩니다. '.format(np.sum(num_tokens < max_tokens) / len(num_tokens)))"
   ]
  },
  {
   "cell_type": "code",
   "execution_count": 7,
   "id": "hired-answer",
   "metadata": {},
   "outputs": [
    {
     "name": "stdout",
     "output_type": "stream",
     "text": [
      "(146182, 41)\n"
     ]
    }
   ],
   "source": [
    "X_train = keras.preprocessing.sequence.pad_sequences(X_train,\n",
    "                                                        value=word_to_index[\"<PAD>\"],\n",
    "                                                        padding='pre', # 혹은 'pre'\n",
    "                                                        maxlen=maxlen)\n",
    "\n",
    "X_test = keras.preprocessing.sequence.pad_sequences(X_test,\n",
    "                                                       value=word_to_index[\"<PAD>\"],\n",
    "                                                       padding='pre', # 혹은 'pre'\n",
    "                                                       maxlen=maxlen)\n",
    "\n",
    "\n",
    "print(X_train.shape)"
   ]
  },
  {
   "cell_type": "code",
   "execution_count": 8,
   "id": "weighted-timber",
   "metadata": {},
   "outputs": [
    {
     "name": "stdout",
     "output_type": "stream",
     "text": [
      "Model: \"sequential\"\n",
      "_________________________________________________________________\n",
      "Layer (type)                 Output Shape              Param #   \n",
      "=================================================================\n",
      "embedding (Embedding)        (None, None, 128)         6907520   \n",
      "_________________________________________________________________\n",
      "lstm (LSTM)                  (None, 32)                20608     \n",
      "_________________________________________________________________\n",
      "dropout (Dropout)            (None, 32)                0         \n",
      "_________________________________________________________________\n",
      "dense (Dense)                (None, 16)                528       \n",
      "_________________________________________________________________\n",
      "dense_1 (Dense)              (None, 1)                 17        \n",
      "=================================================================\n",
      "Total params: 6,928,673\n",
      "Trainable params: 6,928,673\n",
      "Non-trainable params: 0\n",
      "_________________________________________________________________\n"
     ]
    }
   ],
   "source": [
    "vocab_size = len(word_to_index)   # 어휘 사전의 크기\n",
    "word_vector_dim = 128  # 워드 벡터의 차원수 \n",
    "\n",
    "model = keras.Sequential()\n",
    "model.add(keras.layers.Embedding(vocab_size, word_vector_dim, input_shape=(None,)))\n",
    "model.add(keras.layers.LSTM(32))   \n",
    "model.add(keras.layers.Dropout(0.5))\n",
    "model.add(keras.layers.Dense(16, activation='relu',kernel_regularizer='l1'))\n",
    "model.add(keras.layers.Dense(1, activation='sigmoid'))  # 최종 출력은 긍정/부정을 나타내는 1dim\n",
    "\n",
    "model.summary()"
   ]
  },
  {
   "cell_type": "code",
   "execution_count": 9,
   "id": "narrative-beads",
   "metadata": {},
   "outputs": [
    {
     "name": "stdout",
     "output_type": "stream",
     "text": [
      "(96182, 41)\n",
      "(96182,)\n"
     ]
    }
   ],
   "source": [
    "# validation set 50000건 분리\n",
    "X_val = X_train[:50000]   \n",
    "y_val = y_train[:50000]\n",
    "\n",
    "# validation set을 제외한 나머지 약 100000건\n",
    "partial_X_train = X_train[50000:]  \n",
    "partial_y_train = y_train[50000:]\n",
    "\n",
    "print(partial_X_train.shape)\n",
    "print(partial_y_train.shape)"
   ]
  },
  {
   "cell_type": "code",
   "execution_count": 10,
   "id": "bound-curtis",
   "metadata": {},
   "outputs": [
    {
     "name": "stdout",
     "output_type": "stream",
     "text": [
      "Epoch 1/5\n",
      "188/188 [==============================] - 16s 71ms/step - loss: 1.2626 - accuracy: 0.7102 - val_loss: 0.5921 - val_accuracy: 0.8456\n",
      "Epoch 2/5\n",
      "188/188 [==============================] - 12s 66ms/step - loss: 0.4919 - accuracy: 0.8725 - val_loss: 0.4104 - val_accuracy: 0.8510\n",
      "Epoch 3/5\n",
      "188/188 [==============================] - 12s 65ms/step - loss: 0.3375 - accuracy: 0.9003 - val_loss: 0.4086 - val_accuracy: 0.8499\n",
      "Epoch 4/5\n",
      "188/188 [==============================] - 12s 64ms/step - loss: 0.2839 - accuracy: 0.9201 - val_loss: 0.4069 - val_accuracy: 0.8473\n",
      "Epoch 5/5\n",
      "188/188 [==============================] - 12s 65ms/step - loss: 0.2457 - accuracy: 0.9344 - val_loss: 0.4267 - val_accuracy: 0.8459\n"
     ]
    }
   ],
   "source": [
    "model.compile(optimizer='adam',\n",
    "              loss='binary_crossentropy',\n",
    "              metrics=['accuracy'])\n",
    "              \n",
    "epochs=5\n",
    "\n",
    "history = model.fit(partial_X_train,\n",
    "                    partial_y_train,\n",
    "                    epochs=epochs,\n",
    "                    batch_size=512,\n",
    "                    validation_data=(X_val, y_val),\n",
    "                    verbose=1)"
   ]
  },
  {
   "cell_type": "code",
   "execution_count": 11,
   "id": "powered-concert",
   "metadata": {},
   "outputs": [
    {
     "name": "stdout",
     "output_type": "stream",
     "text": [
      "1537/1537 - 5s - loss: 0.4392 - accuracy: 0.8412\n",
      "[0.43916136026382446, 0.8412433862686157]\n"
     ]
    }
   ],
   "source": [
    "results = model.evaluate(X_test,  y_test, verbose=2)\n",
    "\n",
    "print(results)"
   ]
  },
  {
   "cell_type": "code",
   "execution_count": 12,
   "id": "historical-pitch",
   "metadata": {},
   "outputs": [
    {
     "name": "stdout",
     "output_type": "stream",
     "text": [
      "dict_keys(['loss', 'accuracy', 'val_loss', 'val_accuracy'])\n"
     ]
    }
   ],
   "source": [
    "history_dict = history.history\n",
    "print(history_dict.keys()) # epoch에 따른 그래프를 그려볼 수 있는 항목들"
   ]
  },
  {
   "cell_type": "code",
   "execution_count": 13,
   "id": "olive-plymouth",
   "metadata": {},
   "outputs": [
    {
     "data": {
      "image/png": "[encoded data removed]",
      "text/plain": [
       "<Figure size 936x288 with 2 Axes>"
      ]
     },
     "metadata": {
      "needs_background": "light"
     },
     "output_type": "display_data"
    }
   ],
   "source": [
    "import matplotlib.pyplot as plt\n",
    "\n",
    "acc = history_dict['accuracy']\n",
    "val_acc = history_dict['val_accuracy']\n",
    "loss = history_dict['loss']\n",
    "val_loss = history_dict['val_loss']\n",
    "\n",
    "epochs = range(1, len(acc) + 1)\n",
    "\n",
    "fig = plt.figure(figsize=(13,4))\n",
    "ax1 = fig.add_subplot(1,2,1)\n",
    "plt.plot(epochs, loss, 'bo', label='Training loss')\n",
    "# b는 \"파란 실선\"입니다\n",
    "plt.plot(epochs, val_loss, 'b', label='Validation loss')\n",
    "plt.title('Training and validation loss')\n",
    "plt.xlabel('Epochs')\n",
    "plt.ylabel('Loss')\n",
    "plt.legend()\n",
    "\n",
    "\n",
    "ax2 = fig.add_subplot(1,2,2)\n",
    "plt.plot(epochs, acc, 'bo', label='Training acc')\n",
    "plt.plot(epochs, val_acc, 'b', label='Validation acc')\n",
    "plt.title('Training and validation accuracy')\n",
    "plt.xlabel('Epochs')\n",
    "plt.ylabel('Accuracy')\n",
    "plt.legend()\n",
    "\n",
    "plt.show()"
   ]
  },
  {
   "cell_type": "code",
   "execution_count": 14,
   "id": "ideal-cleaning",
   "metadata": {},
   "outputs": [
    {
     "name": "stdout",
     "output_type": "stream",
     "text": [
      "(53965, 128)\n"
     ]
    }
   ],
   "source": [
    "embedding_layer = model.layers[0]\n",
    "weights = embedding_layer.get_weights()[0]\n",
    "print(weights.shape)    # shape: (vocab_size, embedding_dim)"
   ]
  },
  {
   "cell_type": "code",
   "execution_count": 15,
   "id": "expected-layer",
   "metadata": {},
   "outputs": [],
   "source": [
    "import os\n",
    "\n",
    "# 학습한 Embedding 파라미터를 파일에 써서 저장\n",
    "word2vec_file_path = os.getenv('HOME')+'//aiffel/sentiment_classification/data/word2vec.txt'\n",
    "f = open(word2vec_file_path, 'w')\n",
    "f.write('{} {}\\n'.format(vocab_size-4, word_vector_dim))  # 몇개의 벡터를 얼마 사이즈로 기재할지 타이틀을 씁니다.\n",
    "\n",
    "# 단어 개수(에서 특수문자 4개는 제외하고)만큼의 워드 벡터를 파일에 기록합니다. \n",
    "vectors = model.get_weights()[0]\n",
    "for i in range(4,vocab_size):\n",
    "    f.write('{} {}\\n'.format(index_to_word[i], ' '.join(map(str, list(vectors[i, :])))))\n",
    "f.close()"
   ]
  },
  {
   "cell_type": "code",
   "execution_count": 16,
   "id": "fourth-diana",
   "metadata": {},
   "outputs": [
    {
     "data": {
      "text/plain": [
       "array([ 0.08177311, -0.07347293, -0.10455637,  0.05511887, -0.14860958,\n",
       "       -0.09599794,  0.10613695,  0.10434977,  0.14761603,  0.05131663,\n",
       "        0.08216566,  0.05713324, -0.11784288, -0.06620701,  0.05669458,\n",
       "       -0.03443278, -0.03810279,  0.00588832, -0.06633087, -0.07616775,\n",
       "        0.07660388, -0.03235304,  0.0746197 ,  0.00603804, -0.09854145,\n",
       "       -0.16820048,  0.01704469,  0.21397044, -0.00083175, -0.04731803,\n",
       "       -0.07718834, -0.12096762, -0.04685941,  0.06198945, -0.00176431,\n",
       "        0.07701076,  0.02155398, -0.04574473,  0.0945992 ,  0.00709668,\n",
       "        0.05270565,  0.10381973,  0.05690341, -0.0171089 , -0.07761598,\n",
       "       -0.10069521, -0.00095448,  0.02858895, -0.09355573,  0.0506338 ,\n",
       "        0.04848645, -0.00549424,  0.04766197, -0.07542305, -0.04148642,\n",
       "        0.02219833,  0.012705  ,  0.05220634, -0.03325724, -0.11242615,\n",
       "        0.07446032,  0.13365614,  0.13920332,  0.20238484,  0.09874727,\n",
       "       -0.02100035, -0.08253439, -0.02235867, -0.10638317,  0.05382561,\n",
       "       -0.06021236,  0.12550204,  0.08038261,  0.01631378, -0.04759707,\n",
       "        0.07898559, -0.0023719 ,  0.02028986, -0.06269889, -0.02895086,\n",
       "       -0.0464186 , -0.0272292 ,  0.08198737,  0.0601487 , -0.10543899,\n",
       "       -0.06045406, -0.0546224 , -0.0457294 ,  0.05809926, -0.01404801,\n",
       "        0.05257358,  0.07206909, -0.03681084,  0.02924484, -0.17175138,\n",
       "       -0.08850598, -0.03495229, -0.04146776, -0.00725702,  0.11103309,\n",
       "       -0.0061725 ,  0.07106277,  0.03336362, -0.00298676, -0.04353768,\n",
       "        0.08028457, -0.02281708, -0.067003  ,  0.03895969,  0.09281163,\n",
       "       -0.11901848, -0.07611859,  0.04617973, -0.04815332, -0.10832177,\n",
       "        0.04021809, -0.07944064,  0.01633568, -0.05694705,  0.00621075,\n",
       "       -0.03525875,  0.04017688,  0.04353056, -0.01339962, -0.21509661,\n",
       "       -0.03940827,  0.07007963,  0.03751589], dtype=float32)"
      ]
     },
     "execution_count": 16,
     "metadata": {},
     "output_type": "execute_result"
    }
   ],
   "source": [
    "from gensim.models.keyedvectors import Word2VecKeyedVectors\n",
    "\n",
    "word_vectors = Word2VecKeyedVectors.load_word2vec_format(word2vec_file_path, binary=False)\n",
    "vector = word_vectors['좋']\n",
    "vector"
   ]
  },
  {
   "cell_type": "code",
   "execution_count": 17,
   "id": "educational-female",
   "metadata": {
    "scrolled": true
   },
   "outputs": [
    {
     "data": {
      "text/plain": [
       "[('짱', 0.826195478439331),\n",
       " ('맘', 0.8240185976028442),\n",
       " ('재밌', 0.7951843738555908),\n",
       " ('이럼', 0.788032591342926),\n",
       " ('간지', 0.7859430909156799),\n",
       " ('명작', 0.7724514007568359),\n",
       " ('제격', 0.7691848278045654),\n",
       " ('^^;;', 0.7647231817245483),\n",
       " ('감동', 0.7643848657608032),\n",
       " ('아싸', 0.7607522010803223)]"
      ]
     },
     "execution_count": 17,
     "metadata": {},
     "output_type": "execute_result"
    }
   ],
   "source": [
    "word_vectors.similar_by_word(\"좋\")"
   ]
  },
  {
   "cell_type": "code",
   "execution_count": 18,
   "id": "assumed-myanmar",
   "metadata": {},
   "outputs": [
    {
     "name": "stderr",
     "output_type": "stream",
     "text": [
      "/opt/conda/lib/python3.7/site-packages/ipykernel_launcher.py:3: DeprecationWarning: Call to deprecated `__getitem__` (Method will be removed in 4.0.0, use self.wv.__getitem__() instead).\n",
      "  This is separate from the ipykernel package so we can avoid doing imports until\n"
     ]
    },
    {
     "data": {
      "text/plain": [
       "array([ 1.0640332 , -2.2912955 ,  3.3337867 , -2.1199276 , -3.0332334 ,\n",
       "       -0.19465393, -2.481366  , -0.10735121,  2.5207045 ,  0.8627388 ,\n",
       "       -0.45329845, -2.0046058 , -0.01572813,  0.5299075 ,  0.30947903,\n",
       "       -0.9715863 , -0.9571187 , -0.60102916,  0.90976727, -1.9047512 ,\n",
       "       -1.2195476 , -1.1592524 ,  0.8524444 ,  1.8657554 , -0.3389445 ,\n",
       "       -0.49982402,  1.1301196 , -0.5019951 ,  1.1161596 , -1.1941459 ,\n",
       "        0.940446  ,  1.2571095 , -0.30472234,  1.9796319 , -1.1565856 ,\n",
       "       -0.23786964, -0.6009812 ,  0.5220223 ,  0.82051736, -1.5666542 ,\n",
       "       -0.02252442, -1.4792949 ,  1.3666244 ,  1.4165231 ,  1.5582582 ,\n",
       "        0.8805346 ,  3.4146652 , -1.9629716 ,  0.8763886 ,  1.3238906 ,\n",
       "        0.4521591 ,  0.7075807 , -2.176243  , -0.20598859, -2.23883   ,\n",
       "       -1.6937513 , -2.2974951 , -0.46340045,  0.942308  ,  0.6221677 ,\n",
       "        1.5814389 , -0.9991125 , -1.0794336 ,  0.9742524 , -0.8817606 ,\n",
       "        1.5110779 , -2.426482  ,  0.05825558,  2.1984208 ,  0.35296234,\n",
       "        3.1952312 ,  1.8155069 , -1.1671705 ,  1.07751   ,  4.8135138 ,\n",
       "       -0.60856414,  0.96072876,  0.8439502 ,  0.3770566 , -1.6768107 ,\n",
       "       -3.1595662 , -0.14261521,  2.0824883 , -0.11094837, -2.1942945 ,\n",
       "        0.801251  , -0.5296651 ,  1.3014761 , -2.6290061 , -1.4189166 ,\n",
       "        0.902155  , -1.0913172 , -1.0048355 ,  2.9072917 ,  0.9966304 ,\n",
       "       -1.2174375 , -0.9657722 , -1.0152395 ,  0.36920968,  3.3126214 ,\n",
       "        0.03072724,  1.2522703 , -1.8932865 ,  0.43378967, -0.2971605 ,\n",
       "        1.8355585 ,  0.19106394,  0.91579884, -4.395526  , -2.782803  ,\n",
       "        4.157614  , -2.9051135 , -2.238838  , -2.609383  ,  0.45237398,\n",
       "       -1.0346476 , -3.2167242 ,  0.39689595, -1.7131122 ,  0.9475062 ,\n",
       "       -1.1475829 , -0.14993533, -0.31696472, -2.1121385 , -0.7437849 ,\n",
       "        0.8559741 ,  0.6292434 , -0.14344764,  1.0021055 ,  0.01381943,\n",
       "        1.7172662 , -1.6198753 ,  2.2224152 , -0.13469009,  0.7198687 ,\n",
       "        3.6921475 , -1.4100598 , -0.7387036 , -0.6864579 ,  0.4902703 ,\n",
       "        0.01796604, -0.7128891 , -0.36713868, -1.0794181 ,  2.2457912 ,\n",
       "        1.9138381 , -1.7702909 , -0.33142793, -2.752764  ,  0.60539377,\n",
       "       -1.1330652 , -1.432214  , -0.00514037,  0.01048426, -0.35118294,\n",
       "       -0.27634418,  0.85496026,  2.6362362 ,  0.6963407 ,  1.8802122 ,\n",
       "        0.2852981 , -1.9456061 , -0.284934  , -0.48388445,  0.79360694,\n",
       "       -2.74617   , -0.05845991, -1.576361  , -1.9945118 ,  1.8401434 ,\n",
       "        3.085636  , -1.684523  , -0.03559533, -0.45918506,  1.3162051 ,\n",
       "       -0.25565395,  0.01258983, -0.973847  ,  0.21768694, -0.02744086,\n",
       "       -1.5970165 , -0.8845844 , -0.3702187 , -4.0633225 , -0.75575995,\n",
       "       -2.2488348 , -0.40003732, -1.2609444 , -1.5897131 ,  2.197729  ,\n",
       "        0.64992595,  2.000548  ,  2.2584677 ,  0.92214584,  2.573234  ,\n",
       "        0.12080476, -0.9508957 ,  2.7701526 , -1.0781038 ,  1.288294  ],\n",
       "      dtype=float32)"
      ]
     },
     "execution_count": 18,
     "metadata": {},
     "output_type": "execute_result"
    }
   ],
   "source": [
    "import gensim\n",
    "ko_model = gensim.models.Word2Vec.load('~/aiffel/sentiment_classification/data/ko/ko.bin')\n",
    "vector = ko_model['좋']\n",
    "vector"
   ]
  },
  {
   "cell_type": "code",
   "execution_count": 19,
   "id": "narrative-vietnamese",
   "metadata": {},
   "outputs": [
    {
     "name": "stderr",
     "output_type": "stream",
     "text": [
      "/opt/conda/lib/python3.7/site-packages/ipykernel_launcher.py:1: DeprecationWarning: Call to deprecated `similar_by_word` (Method will be removed in 4.0.0, use self.wv.similar_by_word() instead).\n",
      "  \"\"\"Entry point for launching an IPython kernel.\n"
     ]
    },
    {
     "data": {
      "text/plain": [
       "[('괜찮', 0.6849220991134644),\n",
       " ('나쁘', 0.6538200974464417),\n",
       " ('낫', 0.6441531777381897),\n",
       " ('좋아지', 0.6410495042800903),\n",
       " ('높', 0.5870170593261719),\n",
       " ('낮', 0.5831267833709717),\n",
       " ('알맞', 0.5798174142837524),\n",
       " ('많', 0.5643985867500305),\n",
       " ('귀찮', 0.5478721857070923),\n",
       " ('밝', 0.5269371867179871)]"
      ]
     },
     "execution_count": 19,
     "metadata": {},
     "output_type": "execute_result"
    }
   ],
   "source": [
    "ko_model.similar_by_word(\"좋\")"
   ]
  },
  {
   "cell_type": "code",
   "execution_count": 20,
   "id": "premier-insight",
   "metadata": {},
   "outputs": [
    {
     "name": "stderr",
     "output_type": "stream",
     "text": [
      "/opt/conda/lib/python3.7/site-packages/ipykernel_launcher.py:7: DeprecationWarning: Call to deprecated `__contains__` (Method will be removed in 4.0.0, use self.wv.__contains__() instead).\n",
      "  import sys\n",
      "/opt/conda/lib/python3.7/site-packages/ipykernel_launcher.py:8: DeprecationWarning: Call to deprecated `__getitem__` (Method will be removed in 4.0.0, use self.wv.__getitem__() instead).\n",
      "  \n"
     ]
    }
   ],
   "source": [
    "word_vector_dim = 200  # 워드 벡터의 차원수 (변경가능한 하이퍼파라미터)\n",
    "\n",
    "embedding_matrix = np.random.rand(vocab_size, word_vector_dim)\n",
    "\n",
    "# embedding_matrix에 Word2Vec 워드벡터를 단어 하나씩마다 차례차례 카피한다.\n",
    "for i in range(4,vocab_size):\n",
    "    if index_to_word[i] in ko_model:\n",
    "        embedding_matrix[i] = ko_model[index_to_word[i]]"
   ]
  },
  {
   "cell_type": "code",
   "execution_count": 21,
   "id": "mounted-rider",
   "metadata": {},
   "outputs": [
    {
     "name": "stdout",
     "output_type": "stream",
     "text": [
      "Model: \"sequential_1\"\n",
      "_________________________________________________________________\n",
      "Layer (type)                 Output Shape              Param #   \n",
      "=================================================================\n",
      "embedding_1 (Embedding)      (None, 41, 200)           10793000  \n",
      "_________________________________________________________________\n",
      "lstm_1 (LSTM)                (None, 32)                29824     \n",
      "_________________________________________________________________\n",
      "dropout_1 (Dropout)          (None, 32)                0         \n",
      "_________________________________________________________________\n",
      "dense_2 (Dense)              (None, 32)                1056      \n",
      "_________________________________________________________________\n",
      "dense_3 (Dense)              (None, 1)                 33        \n",
      "=================================================================\n",
      "Total params: 10,823,913\n",
      "Trainable params: 10,823,913\n",
      "Non-trainable params: 0\n",
      "_________________________________________________________________\n"
     ]
    }
   ],
   "source": [
    "from tensorflow.keras.initializers import Constant\n",
    "\n",
    "vocab_size = len(word_to_index)   # 어휘 사전의 크기\n",
    "word_vector_dim = 200  # 워드 벡터의 차원수 \n",
    "\n",
    "# 모델 구성\n",
    "model = keras.Sequential()\n",
    "model.add(keras.layers.Embedding(vocab_size, \n",
    "                                 word_vector_dim, \n",
    "                                 embeddings_initializer=Constant(embedding_matrix),  # 카피한 임베딩을 여기서 활용\n",
    "                                 input_length=maxlen, \n",
    "                                 trainable=True))   # trainable을 True로 주면 Fine-tuning\n",
    "model.add(keras.layers.LSTM(32))   \n",
    "model.add(keras.layers.Dropout(0.5))\n",
    "model.add(keras.layers.Dense(32, activation='relu',kernel_regularizer='l1'))\n",
    "model.add(keras.layers.Dense(1, activation='sigmoid'))  # 최종 출력은 긍정/부정을 나타내는 1dim\n",
    "\n",
    "model.summary()"
   ]
  },
  {
   "cell_type": "code",
   "execution_count": 22,
   "id": "capital-maple",
   "metadata": {},
   "outputs": [
    {
     "name": "stdout",
     "output_type": "stream",
     "text": [
      "Epoch 1/5\n",
      "188/188 [==============================] - 28s 141ms/step - loss: 1.8132 - accuracy: 0.6179 - val_loss: 0.7228 - val_accuracy: 0.8054\n",
      "Epoch 2/5\n",
      "188/188 [==============================] - 26s 141ms/step - loss: 0.6001 - accuracy: 0.8188 - val_loss: 0.4446 - val_accuracy: 0.8372\n",
      "Epoch 3/5\n",
      "188/188 [==============================] - 27s 142ms/step - loss: 0.4090 - accuracy: 0.8637 - val_loss: 0.4152 - val_accuracy: 0.8473\n",
      "Epoch 4/5\n",
      "188/188 [==============================] - 28s 149ms/step - loss: 0.3460 - accuracy: 0.8913 - val_loss: 0.3992 - val_accuracy: 0.8520\n",
      "Epoch 5/5\n",
      "188/188 [==============================] - 26s 140ms/step - loss: 0.3051 - accuracy: 0.9087 - val_loss: 0.4040 - val_accuracy: 0.8512\n"
     ]
    }
   ],
   "source": [
    "# 학습의 진행\n",
    "model.compile(optimizer='adam',\n",
    "              loss='binary_crossentropy',\n",
    "              metrics=['accuracy'])\n",
    "              \n",
    "epochs=5 \n",
    "\n",
    "history = model.fit(partial_X_train,\n",
    "                    partial_y_train,\n",
    "                    epochs=epochs,\n",
    "                    batch_size=512,\n",
    "                    validation_data=(X_val, y_val),\n",
    "                    verbose=1)"
   ]
  },
  {
   "cell_type": "code",
   "execution_count": 23,
   "id": "homeless-cleaning",
   "metadata": {},
   "outputs": [
    {
     "name": "stdout",
     "output_type": "stream",
     "text": [
      "1537/1537 - 5s - loss: 0.4143 - accuracy: 0.8466\n",
      "[0.4142515957355499, 0.8465935587882996]\n"
     ]
    }
   ],
   "source": [
    "results = model.evaluate(X_test,  y_test, verbose=2)\n",
    "\n",
    "print(results)"
   ]
  },
  {
   "cell_type": "code",
   "execution_count": 24,
   "id": "broke-toronto",
   "metadata": {},
   "outputs": [
    {
     "data": {
      "image/png": "[encoded data removed]",
      "text/plain": [
       "<Figure size 936x288 with 2 Axes>"
      ]
     },
     "metadata": {
      "needs_background": "light"
     },
     "output_type": "display_data"
    }
   ],
   "source": [
    "acc = history_dict['accuracy']\n",
    "val_acc = history_dict['val_accuracy']\n",
    "loss = history_dict['loss']\n",
    "val_loss = history_dict['val_loss']\n",
    "\n",
    "epochs = range(1, len(acc) + 1)\n",
    "\n",
    "fig = plt.figure(figsize=(13,4))\n",
    "ax1 = fig.add_subplot(1,2,1)\n",
    "plt.plot(epochs, loss, 'bo', label='Training loss')\n",
    "# b는 \"파란 실선\"입니다\n",
    "plt.plot(epochs, val_loss, 'b', label='Validation loss')\n",
    "plt.title('Training and validation loss')\n",
    "plt.xlabel('Epochs')\n",
    "plt.ylabel('Loss')\n",
    "plt.legend()\n",
    "\n",
    "\n",
    "ax2 = fig.add_subplot(1,2,2)\n",
    "plt.plot(epochs, acc, 'bo', label='Training acc')\n",
    "plt.plot(epochs, val_acc, 'b', label='Validation acc')\n",
    "plt.title('Training and validation accuracy')\n",
    "plt.xlabel('Epochs')\n",
    "plt.ylabel('Accuracy')\n",
    "#plt.ylim(0.5,1)\n",
    "plt.legend()\n",
    "\n",
    "plt.show()"
   ]
  },
  {
   "cell_type": "markdown",
   "id": "thermal-flashing",
   "metadata": {},
   "source": [
    "### CNN - GlobalMaxPooling 1D 모델"
   ]
  },
  {
   "cell_type": "code",
   "execution_count": 25,
   "id": "short-sleeping",
   "metadata": {},
   "outputs": [
    {
     "name": "stdout",
     "output_type": "stream",
     "text": [
      "Model: \"sequential_2\"\n",
      "_________________________________________________________________\n",
      "Layer (type)                 Output Shape              Param #   \n",
      "=================================================================\n",
      "embedding_2 (Embedding)      (None, None, 128)         6907520   \n",
      "_________________________________________________________________\n",
      "conv1d (Conv1D)              (None, None, 32)          28704     \n",
      "_________________________________________________________________\n",
      "max_pooling1d (MaxPooling1D) (None, None, 32)          0         \n",
      "_________________________________________________________________\n",
      "conv1d_1 (Conv1D)            (None, None, 16)          3600      \n",
      "_________________________________________________________________\n",
      "global_max_pooling1d (Global (None, 16)                0         \n",
      "_________________________________________________________________\n",
      "dropout_2 (Dropout)          (None, 16)                0         \n",
      "_________________________________________________________________\n",
      "dense_4 (Dense)              (None, 16)                272       \n",
      "_________________________________________________________________\n",
      "dense_5 (Dense)              (None, 1)                 17        \n",
      "=================================================================\n",
      "Total params: 6,940,113\n",
      "Trainable params: 6,940,113\n",
      "Non-trainable params: 0\n",
      "_________________________________________________________________\n"
     ]
    }
   ],
   "source": [
    "vocab_size = len(word_to_index)\n",
    "word_vector_dim = 128   \n",
    "\n",
    "model = keras.Sequential()\n",
    "model.add(keras.layers.Embedding(vocab_size, word_vector_dim, input_shape=(None,)))\n",
    "model.add(keras.layers.Conv1D(32, 7, activation='relu'))\n",
    "model.add(keras.layers.MaxPooling1D(5))\n",
    "model.add(keras.layers.Conv1D(16, 7, activation='relu'))\n",
    "model.add(keras.layers.GlobalMaxPooling1D())\n",
    "model.add(keras.layers.Dropout(0.5))\n",
    "model.add(keras.layers.Dense(16, activation='relu',kernel_regularizer='l1'))\n",
    "model.add(keras.layers.Dense(1, activation='sigmoid'))  \n",
    "\n",
    "model.summary()"
   ]
  },
  {
   "cell_type": "code",
   "execution_count": 26,
   "id": "drawn-pennsylvania",
   "metadata": {},
   "outputs": [
    {
     "name": "stdout",
     "output_type": "stream",
     "text": [
      "(96182, 41)\n",
      "(96182,)\n"
     ]
    }
   ],
   "source": [
    "X_val = X_train[:50000]   \n",
    "y_val = y_train[:50000]\n",
    "\n",
    "\n",
    "partial_X_train = X_train[50000:]  \n",
    "partial_y_train = y_train[50000:]\n",
    "\n",
    "print(partial_X_train.shape)\n",
    "print(partial_y_train.shape)"
   ]
  },
  {
   "cell_type": "code",
   "execution_count": 27,
   "id": "little-marina",
   "metadata": {},
   "outputs": [
    {
     "name": "stdout",
     "output_type": "stream",
     "text": [
      "Epoch 1/5\n",
      "188/188 [==============================] - 24s 98ms/step - loss: 1.0960 - accuracy: 0.6181 - val_loss: 0.5709 - val_accuracy: 0.8452\n",
      "Epoch 2/5\n",
      "188/188 [==============================] - 11s 59ms/step - loss: 0.5176 - accuracy: 0.8455 - val_loss: 0.3797 - val_accuracy: 0.8534\n",
      "Epoch 3/5\n",
      "188/188 [==============================] - 12s 63ms/step - loss: 0.3254 - accuracy: 0.8931 - val_loss: 0.3680 - val_accuracy: 0.8520\n",
      "Epoch 4/5\n",
      "188/188 [==============================] - 11s 60ms/step - loss: 0.2664 - accuracy: 0.9132 - val_loss: 0.3857 - val_accuracy: 0.8509\n",
      "Epoch 5/5\n",
      "188/188 [==============================] - 12s 62ms/step - loss: 0.2211 - accuracy: 0.9319 - val_loss: 0.4182 - val_accuracy: 0.8472\n"
     ]
    }
   ],
   "source": [
    "model.compile(optimizer='adam',\n",
    "              loss='binary_crossentropy',\n",
    "              metrics=['accuracy'])\n",
    "              \n",
    "epochs=5  \n",
    "\n",
    "history = model.fit(partial_X_train,\n",
    "                    partial_y_train,\n",
    "                    epochs=epochs,\n",
    "                    batch_size=512,\n",
    "                    validation_data=(X_val, y_val),\n",
    "                    verbose=1)"
   ]
  },
  {
   "cell_type": "code",
   "execution_count": 28,
   "id": "enabling-crazy",
   "metadata": {},
   "outputs": [
    {
     "name": "stdout",
     "output_type": "stream",
     "text": [
      "1537/1537 - 7s - loss: 0.4305 - accuracy: 0.8427\n",
      "[0.43045565485954285, 0.842687726020813]\n"
     ]
    }
   ],
   "source": [
    "results = model.evaluate(X_test,  y_test, verbose=2)\n",
    "\n",
    "print(results)"
   ]
  },
  {
   "cell_type": "code",
   "execution_count": 29,
   "id": "marked-trading",
   "metadata": {},
   "outputs": [
    {
     "name": "stdout",
     "output_type": "stream",
     "text": [
      "dict_keys(['loss', 'accuracy', 'val_loss', 'val_accuracy'])\n"
     ]
    }
   ],
   "source": [
    "history_dict = history.history\n",
    "print(history_dict.keys())"
   ]
  },
  {
   "cell_type": "code",
   "execution_count": 30,
   "id": "terminal-calendar",
   "metadata": {},
   "outputs": [
    {
     "data": {
      "image/png": "[encoded data removed]",
      "text/plain": [
       "<Figure size 936x288 with 2 Axes>"
      ]
     },
     "metadata": {
      "needs_background": "light"
     },
     "output_type": "display_data"
    }
   ],
   "source": [
    "import matplotlib.pyplot as plt\n",
    "\n",
    "acc = history_dict['accuracy']\n",
    "val_acc = history_dict['val_accuracy']\n",
    "loss = history_dict['loss']\n",
    "val_loss = history_dict['val_loss']\n",
    "\n",
    "epochs = range(1, len(acc) + 1)\n",
    "\n",
    "fig = plt.figure(figsize=(13,4))\n",
    "ax1 = fig.add_subplot(1,2,1)\n",
    "# \"bo\"는 \"파란색 점\"입니다\n",
    "plt.plot(epochs, loss, 'bo', label='Training loss')\n",
    "# b는 \"파란 실선\"입니다\n",
    "plt.plot(epochs, val_loss, 'b', label='Validation loss')\n",
    "plt.title('Training and validation loss')\n",
    "plt.xlabel('Epochs')\n",
    "plt.ylabel('Loss')\n",
    "plt.legend()\n",
    "\n",
    "\n",
    "ax2 = fig.add_subplot(1,2,2)\n",
    "plt.plot(epochs, acc, 'bo', label='Training acc')\n",
    "plt.plot(epochs, val_acc, 'b', label='Validation acc')\n",
    "plt.title('Training and validation accuracy')\n",
    "plt.xlabel('Epochs')\n",
    "plt.ylabel('Accuracy')\n",
    "plt.legend()\n",
    "\n",
    "plt.show()"
   ]
  },
  {
   "cell_type": "code",
   "execution_count": 31,
   "id": "human-observation",
   "metadata": {},
   "outputs": [
    {
     "name": "stdout",
     "output_type": "stream",
     "text": [
      "(53965, 128)\n"
     ]
    }
   ],
   "source": [
    "embedding_layer = model.layers[0]\n",
    "weights = embedding_layer.get_weights()[0]\n",
    "print(weights.shape)    # shape: (vocab_size, embedding_dim)"
   ]
  },
  {
   "cell_type": "code",
   "execution_count": 32,
   "id": "injured-craps",
   "metadata": {},
   "outputs": [],
   "source": [
    "import os\n",
    "\n",
    "# 학습한 Embedding 파라미터를 파일에 써서 저장\n",
    "word2vec_file_path = os.getenv('HOME')+'//aiffel/sentiment_classification/data/word2vec.txt'\n",
    "f = open(word2vec_file_path, 'w')\n",
    "f.write('{} {}\\n'.format(vocab_size-4, word_vector_dim))  # 몇개의 벡터를 얼마 사이즈로 기재할지 타이틀을 씁니다.\n",
    "\n",
    "# 단어 개수(에서 특수문자 4개는 제외하고)만큼의 워드 벡터를 파일에 기록합니다. \n",
    "vectors = model.get_weights()[0]\n",
    "for i in range(4,vocab_size):\n",
    "    f.write('{} {}\\n'.format(index_to_word[i], ' '.join(map(str, list(vectors[i, :])))))\n",
    "f.close()"
   ]
  },
  {
   "cell_type": "code",
   "execution_count": 33,
   "id": "genetic-acceptance",
   "metadata": {},
   "outputs": [
    {
     "data": {
      "text/plain": [
       "array([-1.09471129e-02,  3.96648869e-02, -6.95668999e-03,  8.64462368e-03,\n",
       "       -3.22106741e-02,  6.57977611e-02,  8.87951553e-02,  8.64156485e-02,\n",
       "        1.13374675e-02,  1.29219845e-01, -3.83534580e-02, -8.51909816e-03,\n",
       "       -4.65246337e-03,  1.48254388e-04,  8.47899914e-02,  3.48510861e-04,\n",
       "       -3.34498174e-02,  6.11049645e-02,  1.06750339e-01,  8.15265700e-02,\n",
       "        9.22735489e-05,  4.27631810e-02, -7.99012482e-02, -3.99548411e-02,\n",
       "        2.20169779e-02, -5.98081611e-02,  1.14137232e-01, -3.79004516e-02,\n",
       "        3.89777236e-02, -6.77244738e-02, -2.81985439e-02,  6.35399371e-02,\n",
       "        1.13624088e-01, -7.73325795e-04, -1.32715836e-01, -1.06529236e-01,\n",
       "       -8.42811540e-03,  1.14872567e-01, -6.04388025e-03,  7.77970105e-02,\n",
       "       -8.89670625e-02, -3.46640721e-02,  8.92557725e-02, -2.35564951e-02,\n",
       "        2.51482110e-02, -6.38078991e-03,  3.86453159e-02,  6.60373420e-02,\n",
       "        2.30441503e-02,  1.44409006e-02,  7.03738928e-02, -8.67210999e-02,\n",
       "       -3.73542458e-02,  8.41552690e-02,  5.47671691e-02, -2.32946035e-02,\n",
       "        1.00005150e-01, -8.65183100e-02,  7.68934190e-03, -1.66709676e-01,\n",
       "        6.38623461e-02,  5.09178713e-02, -1.71963125e-02,  1.13056235e-01,\n",
       "       -7.16805905e-02,  9.90604162e-02,  8.34224597e-02,  1.29461572e-01,\n",
       "       -1.11222900e-01,  6.38495609e-02,  6.78434893e-02,  1.05661415e-01,\n",
       "        7.23288730e-02, -1.14289429e-02,  1.87734187e-01, -6.71257600e-02,\n",
       "       -1.17749482e-01,  2.56907232e-02,  2.27436461e-02,  5.08712679e-02,\n",
       "        2.38719769e-02,  1.16657346e-01,  8.01571682e-02,  6.35825247e-02,\n",
       "       -2.12591924e-02,  1.01278961e-01, -8.04771334e-02, -1.02804385e-01,\n",
       "        1.09635435e-01,  2.05137823e-02, -2.86333188e-02, -2.84069441e-02,\n",
       "        7.69103691e-02, -7.16053545e-02,  1.12165138e-01, -3.22365202e-02,\n",
       "        2.26954818e-02, -1.08283147e-01,  3.17108072e-02,  8.04608911e-02,\n",
       "        3.31169367e-02,  6.67561889e-02,  7.40918843e-03,  9.21308622e-02,\n",
       "       -7.05201924e-02, -5.53690754e-02, -8.24242271e-03, -5.83886020e-02,\n",
       "        6.41982779e-02,  8.46441016e-02,  6.76874742e-02, -6.76522329e-02,\n",
       "       -9.44250301e-02,  9.29860491e-03,  1.04014888e-01, -3.23768966e-02,\n",
       "       -7.31765553e-02, -4.92922962e-02,  5.40405996e-02,  8.35367590e-02,\n",
       "        6.75966218e-02,  7.11707249e-02,  5.81412911e-02, -9.92835537e-02,\n",
       "       -8.25754851e-02, -3.05622281e-03, -5.28170168e-02,  7.09962323e-02],\n",
       "      dtype=float32)"
      ]
     },
     "execution_count": 33,
     "metadata": {},
     "output_type": "execute_result"
    }
   ],
   "source": [
    "from gensim.models.keyedvectors import Word2VecKeyedVectors\n",
    "\n",
    "word_vectors = Word2VecKeyedVectors.load_word2vec_format(word2vec_file_path, binary=False)\n",
    "vector = word_vectors['좋']\n",
    "vector"
   ]
  },
  {
   "cell_type": "code",
   "execution_count": 34,
   "id": "bizarre-advance",
   "metadata": {},
   "outputs": [
    {
     "data": {
      "text/plain": [
       "[('훌륭', 0.7002923488616943),\n",
       " ('감사', 0.6993418335914612),\n",
       " ('만족', 0.6856452226638794),\n",
       " ('낸', 0.681257963180542),\n",
       " ('10', 0.6643489599227905),\n",
       " ('전설', 0.6368192434310913),\n",
       " ('떠오를', 0.6294131875038147),\n",
       " ('찾아왔', 0.6284308433532715),\n",
       " ('유쾌', 0.6266955137252808),\n",
       " ('칰', 0.6249358654022217)]"
      ]
     },
     "execution_count": 34,
     "metadata": {},
     "output_type": "execute_result"
    }
   ],
   "source": [
    "word_vectors.similar_by_word(\"좋\")"
   ]
  },
  {
   "cell_type": "code",
   "execution_count": null,
   "id": "parallel-hundred",
   "metadata": {},
   "outputs": [],
   "source": []
  }
 ],
 "metadata": {
  "kernelspec": {
   "display_name": "Python 3",
   "language": "python",
   "name": "python3"
  },
  "language_info": {
   "codemirror_mode": {
    "name": "ipython",
    "version": 3
   },
   "file_extension": ".py",
   "mimetype": "text/x-python",
   "name": "python",
   "nbconvert_exporter": "python",
   "pygments_lexer": "ipython3",
   "version": "3.7.9"
  }
 },
 "nbformat": 4,
 "nbformat_minor": 5
}
